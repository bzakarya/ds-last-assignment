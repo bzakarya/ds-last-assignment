{
 "cells": [
  {
   "cell_type": "code",
   "execution_count": 1,
   "id": "bb8949cb-00c0-40d3-8995-512f4e250335",
   "metadata": {},
   "outputs": [],
   "source": [
    "# Import required libraries\n",
    "import pandas as pd\n",
    "import dash\n",
    "import dash_html_components as html\n",
    "import dash_core_components as dcc\n",
    "from dash.dependencies import Input, Output, State\n",
    "import plotly.graph_objects as go\n",
    "import plotly.express as px\n",
    "from dash import no_update\n",
    "import seaborn as sns\n",
    "import matplotlib.pyplot as plt"
   ]
  },
  {
   "cell_type": "code",
   "execution_count": 2,
   "id": "9ba08529-3dd5-48f6-9404-ac8cc59ba033",
   "metadata": {},
   "outputs": [
    {
     "name": "stdout",
     "output_type": "stream",
     "text": [
      "Dash is running on http://127.0.0.1:8050/\n",
      "\n",
      " * Serving Flask app '__main__' (lazy loading)\n",
      " * Environment: production\n",
      "\u001b[31m   WARNING: This is a development server. Do not use it in a production deployment.\u001b[0m\n",
      "\u001b[2m   Use a production WSGI server instead.\u001b[0m\n",
      " * Debug mode: off\n"
     ]
    },
    {
     "name": "stderr",
     "output_type": "stream",
     "text": [
      " * Running on http://127.0.0.1:8050/ (Press CTRL+C to quit)\n",
      "127.0.0.1 - - [17/Sep/2021 02:00:28] \"GET / HTTP/1.1\" 200 -\n",
      "127.0.0.1 - - [17/Sep/2021 02:00:28] \"GET /_dash-dependencies HTTP/1.1\" 200 -\n",
      "127.0.0.1 - - [17/Sep/2021 02:00:28] \"GET /_dash-layout HTTP/1.1\" 200 -\n",
      "127.0.0.1 - - [17/Sep/2021 02:00:28] \"GET /_dash-component-suites/dash_core_components/async-graph.js HTTP/1.1\" 200 -\n",
      "127.0.0.1 - - [17/Sep/2021 02:00:28] \"GET /_dash-component-suites/dash_core_components/async-slider.js HTTP/1.1\" 200 -\n",
      "127.0.0.1 - - [17/Sep/2021 02:00:28] \"POST /_dash-update-component HTTP/1.1\" 200 -\n",
      "127.0.0.1 - - [17/Sep/2021 02:00:28] \"GET /_dash-component-suites/dash_core_components/async-plotlyjs.js HTTP/1.1\" 200 -\n",
      "127.0.0.1 - - [17/Sep/2021 02:00:32] \"POST /_dash-update-component HTTP/1.1\" 200 -\n",
      "127.0.0.1 - - [17/Sep/2021 02:00:33] \"POST /_dash-update-component HTTP/1.1\" 200 -\n",
      "127.0.0.1 - - [17/Sep/2021 02:00:34] \"POST /_dash-update-component HTTP/1.1\" 200 -\n",
      "127.0.0.1 - - [17/Sep/2021 02:00:36] \"POST /_dash-update-component HTTP/1.1\" 200 -\n"
     ]
    }
   ],
   "source": [
    "df=pd.read_csv(\"https://cf-courses-data.s3.us.cloud-object-storage.appdomain.cloud/IBM-DS0321EN-SkillsNetwork/datasets/dataset_part_2.csv\")\n",
    "df['success_rate'] = df['Class']/df['Class'].sum()\n",
    "app = dash.Dash(__name__)\n",
    "fig = px.pie(df, values='Class', names='LaunchSite', title='launch success count for all sites')\n",
    "fig1 = px.pie(df, values='success_rate', names='LaunchSite', title='site with highest launch success ratio')\n",
    "\n",
    "#---------------------------------------------------------------\n",
    "app.layout = html.Div([\n",
    "        html.Div([\n",
    "            html.Pre(children= \"Suicide Rates 1985-2016\",\n",
    "            style={\"text-align\": \"center\", \"font-size\":\"100%\", \"color\":\"black\"})\n",
    "        ]),\n",
    "\n",
    "       html.Div([\n",
    "            html.Div([ \n",
    "            dcc.Graph(figure=fig)]),\n",
    "            html.Div([\n",
    "            dcc.Graph(figure=fig1)])\n",
    "        ], style={'display': 'flex'}),\n",
    "\n",
    "        html.Div([\n",
    "            dcc.Graph(id='the_graph')\n",
    "        ]),\n",
    "\n",
    "        html.Div([\n",
    "            dcc.RangeSlider(id='the_year',\n",
    "                min=df['PayloadMass'].min(),\n",
    "                max=df['PayloadMass'].max(),\n",
    "                value=[df['PayloadMass'].min(),df['PayloadMass'].max()],\n",
    "                marks=df['PayloadMass'],\n",
    "                step=100)\n",
    "        ],style={\"width\": \"70%\", \"position\":\"absolute\",\n",
    "                 \"left\":\"5%\"})\n",
    "\n",
    "])\n",
    "#---------------------------------------------------------------\n",
    "\n",
    "            \n",
    "\n",
    "@app.callback(\n",
    "    Output('the_graph','figure'),\n",
    "    [Input('the_year','value')]\n",
    ")\n",
    "\n",
    "def update_graph(years_chosen):\n",
    "    # print(years_chosen)\n",
    "    dff=df[(df['PayloadMass']>=years_chosen[0])&(df['PayloadMass']<=years_chosen[1])]\n",
    "\n",
    "    scatterplot = px.scatter(\n",
    "        data_frame=dff,\n",
    "        x=\"PayloadMass\",\n",
    "        y=\"Outcome\",\n",
    "    )\n",
    "\n",
    "    scatterplot.update_traces(textposition='top center')\n",
    "\n",
    "    return (scatterplot)\n",
    "\n",
    "if __name__ == '__main__':\n",
    "    app.run_server()"
   ]
  },
  {
   "cell_type": "code",
   "execution_count": null,
   "id": "19671679-476a-48e1-ae5b-63fea51fddfb",
   "metadata": {},
   "outputs": [],
   "source": []
  }
 ],
 "metadata": {
  "kernelspec": {
   "display_name": "Python 3 (ipykernel)",
   "language": "python",
   "name": "python3"
  },
  "language_info": {
   "codemirror_mode": {
    "name": "ipython",
    "version": 3
   },
   "file_extension": ".py",
   "mimetype": "text/x-python",
   "name": "python",
   "nbconvert_exporter": "python",
   "pygments_lexer": "ipython3",
   "version": "3.8.0"
  }
 },
 "nbformat": 4,
 "nbformat_minor": 5
}
